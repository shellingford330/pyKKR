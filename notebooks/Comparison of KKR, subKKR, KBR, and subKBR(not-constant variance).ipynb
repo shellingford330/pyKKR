{
 "cells": [
  {
   "cell_type": "markdown",
   "metadata": {},
   "source": [
    "# Comparison of (sub)KKR and (sub)KBR to an Analytical Baseline\n",
    "\n",
    "kernel Kalman ruleでは、観測の誤差Rが一定とみなしている。\n",
    "\n",
    "ただ、計測器が違う観測がある場合、この仮定とは反する。\n",
    "\n",
    "そこで予測した分散を次の観測誤差に用いる。"
   ]
  },
  {
   "cell_type": "code",
   "execution_count": 1,
   "metadata": {},
   "outputs": [],
   "source": [
    "import os\n",
    "import sys\n",
    "module_path = os.path.abspath(os.path.join('..'))\n",
    "sys.path.append(module_path)"
   ]
  },
  {
   "cell_type": "code",
   "execution_count": 2,
   "metadata": {},
   "outputs": [
    {
     "data": {
      "text/html": [
       "\n",
       "    <div class=\"bk-root\">\n",
       "        <a href=\"https://bokeh.org\" target=\"_blank\" class=\"bk-logo bk-logo-small bk-logo-notebook\"></a>\n",
       "        <span id=\"1002\">Loading BokehJS ...</span>\n",
       "    </div>"
      ]
     },
     "metadata": {},
     "output_type": "display_data"
    },
    {
     "data": {
      "application/javascript": [
       "\n",
       "(function(root) {\n",
       "  function now() {\n",
       "    return new Date();\n",
       "  }\n",
       "\n",
       "  const force = true;\n",
       "\n",
       "  if (typeof root._bokeh_onload_callbacks === \"undefined\" || force === true) {\n",
       "    root._bokeh_onload_callbacks = [];\n",
       "    root._bokeh_is_loading = undefined;\n",
       "  }\n",
       "\n",
       "  const JS_MIME_TYPE = 'application/javascript';\n",
       "  const HTML_MIME_TYPE = 'text/html';\n",
       "  const EXEC_MIME_TYPE = 'application/vnd.bokehjs_exec.v0+json';\n",
       "  const CLASS_NAME = 'output_bokeh rendered_html';\n",
       "\n",
       "  /**\n",
       "   * Render data to the DOM node\n",
       "   */\n",
       "  function render(props, node) {\n",
       "    const script = document.createElement(\"script\");\n",
       "    node.appendChild(script);\n",
       "  }\n",
       "\n",
       "  /**\n",
       "   * Handle when an output is cleared or removed\n",
       "   */\n",
       "  function handleClearOutput(event, handle) {\n",
       "    const cell = handle.cell;\n",
       "\n",
       "    const id = cell.output_area._bokeh_element_id;\n",
       "    const server_id = cell.output_area._bokeh_server_id;\n",
       "    // Clean up Bokeh references\n",
       "    if (id != null && id in Bokeh.index) {\n",
       "      Bokeh.index[id].model.document.clear();\n",
       "      delete Bokeh.index[id];\n",
       "    }\n",
       "\n",
       "    if (server_id !== undefined) {\n",
       "      // Clean up Bokeh references\n",
       "      const cmd_clean = \"from bokeh.io.state import curstate; print(curstate().uuid_to_server['\" + server_id + \"'].get_sessions()[0].document.roots[0]._id)\";\n",
       "      cell.notebook.kernel.execute(cmd_clean, {\n",
       "        iopub: {\n",
       "          output: function(msg) {\n",
       "            const id = msg.content.text.trim();\n",
       "            if (id in Bokeh.index) {\n",
       "              Bokeh.index[id].model.document.clear();\n",
       "              delete Bokeh.index[id];\n",
       "            }\n",
       "          }\n",
       "        }\n",
       "      });\n",
       "      // Destroy server and session\n",
       "      const cmd_destroy = \"import bokeh.io.notebook as ion; ion.destroy_server('\" + server_id + \"')\";\n",
       "      cell.notebook.kernel.execute(cmd_destroy);\n",
       "    }\n",
       "  }\n",
       "\n",
       "  /**\n",
       "   * Handle when a new output is added\n",
       "   */\n",
       "  function handleAddOutput(event, handle) {\n",
       "    const output_area = handle.output_area;\n",
       "    const output = handle.output;\n",
       "\n",
       "    // limit handleAddOutput to display_data with EXEC_MIME_TYPE content only\n",
       "    if ((output.output_type != \"display_data\") || (!Object.prototype.hasOwnProperty.call(output.data, EXEC_MIME_TYPE))) {\n",
       "      return\n",
       "    }\n",
       "\n",
       "    const toinsert = output_area.element.find(\".\" + CLASS_NAME.split(' ')[0]);\n",
       "\n",
       "    if (output.metadata[EXEC_MIME_TYPE][\"id\"] !== undefined) {\n",
       "      toinsert[toinsert.length - 1].firstChild.textContent = output.data[JS_MIME_TYPE];\n",
       "      // store reference to embed id on output_area\n",
       "      output_area._bokeh_element_id = output.metadata[EXEC_MIME_TYPE][\"id\"];\n",
       "    }\n",
       "    if (output.metadata[EXEC_MIME_TYPE][\"server_id\"] !== undefined) {\n",
       "      const bk_div = document.createElement(\"div\");\n",
       "      bk_div.innerHTML = output.data[HTML_MIME_TYPE];\n",
       "      const script_attrs = bk_div.children[0].attributes;\n",
       "      for (let i = 0; i < script_attrs.length; i++) {\n",
       "        toinsert[toinsert.length - 1].firstChild.setAttribute(script_attrs[i].name, script_attrs[i].value);\n",
       "        toinsert[toinsert.length - 1].firstChild.textContent = bk_div.children[0].textContent\n",
       "      }\n",
       "      // store reference to server id on output_area\n",
       "      output_area._bokeh_server_id = output.metadata[EXEC_MIME_TYPE][\"server_id\"];\n",
       "    }\n",
       "  }\n",
       "\n",
       "  function register_renderer(events, OutputArea) {\n",
       "\n",
       "    function append_mime(data, metadata, element) {\n",
       "      // create a DOM node to render to\n",
       "      const toinsert = this.create_output_subarea(\n",
       "        metadata,\n",
       "        CLASS_NAME,\n",
       "        EXEC_MIME_TYPE\n",
       "      );\n",
       "      this.keyboard_manager.register_events(toinsert);\n",
       "      // Render to node\n",
       "      const props = {data: data, metadata: metadata[EXEC_MIME_TYPE]};\n",
       "      render(props, toinsert[toinsert.length - 1]);\n",
       "      element.append(toinsert);\n",
       "      return toinsert\n",
       "    }\n",
       "\n",
       "    /* Handle when an output is cleared or removed */\n",
       "    events.on('clear_output.CodeCell', handleClearOutput);\n",
       "    events.on('delete.Cell', handleClearOutput);\n",
       "\n",
       "    /* Handle when a new output is added */\n",
       "    events.on('output_added.OutputArea', handleAddOutput);\n",
       "\n",
       "    /**\n",
       "     * Register the mime type and append_mime function with output_area\n",
       "     */\n",
       "    OutputArea.prototype.register_mime_type(EXEC_MIME_TYPE, append_mime, {\n",
       "      /* Is output safe? */\n",
       "      safe: true,\n",
       "      /* Index of renderer in `output_area.display_order` */\n",
       "      index: 0\n",
       "    });\n",
       "  }\n",
       "\n",
       "  // register the mime type if in Jupyter Notebook environment and previously unregistered\n",
       "  if (root.Jupyter !== undefined) {\n",
       "    const events = require('base/js/events');\n",
       "    const OutputArea = require('notebook/js/outputarea').OutputArea;\n",
       "\n",
       "    if (OutputArea.prototype.mime_types().indexOf(EXEC_MIME_TYPE) == -1) {\n",
       "      register_renderer(events, OutputArea);\n",
       "    }\n",
       "  }\n",
       "\n",
       "  \n",
       "  if (typeof (root._bokeh_timeout) === \"undefined\" || force === true) {\n",
       "    root._bokeh_timeout = Date.now() + 5000;\n",
       "    root._bokeh_failed_load = false;\n",
       "  }\n",
       "\n",
       "  const NB_LOAD_WARNING = {'data': {'text/html':\n",
       "     \"<div style='background-color: #fdd'>\\n\"+\n",
       "     \"<p>\\n\"+\n",
       "     \"BokehJS does not appear to have successfully loaded. If loading BokehJS from CDN, this \\n\"+\n",
       "     \"may be due to a slow or bad network connection. Possible fixes:\\n\"+\n",
       "     \"</p>\\n\"+\n",
       "     \"<ul>\\n\"+\n",
       "     \"<li>re-rerun `output_notebook()` to attempt to load from CDN again, or</li>\\n\"+\n",
       "     \"<li>use INLINE resources instead, as so:</li>\\n\"+\n",
       "     \"</ul>\\n\"+\n",
       "     \"<code>\\n\"+\n",
       "     \"from bokeh.resources import INLINE\\n\"+\n",
       "     \"output_notebook(resources=INLINE)\\n\"+\n",
       "     \"</code>\\n\"+\n",
       "     \"</div>\"}};\n",
       "\n",
       "  function display_loaded() {\n",
       "    const el = document.getElementById(\"1002\");\n",
       "    if (el != null) {\n",
       "      el.textContent = \"BokehJS is loading...\";\n",
       "    }\n",
       "    if (root.Bokeh !== undefined) {\n",
       "      if (el != null) {\n",
       "        el.textContent = \"BokehJS \" + root.Bokeh.version + \" successfully loaded.\";\n",
       "      }\n",
       "    } else if (Date.now() < root._bokeh_timeout) {\n",
       "      setTimeout(display_loaded, 100)\n",
       "    }\n",
       "  }\n",
       "\n",
       "\n",
       "  function run_callbacks() {\n",
       "    try {\n",
       "      root._bokeh_onload_callbacks.forEach(function(callback) {\n",
       "        if (callback != null)\n",
       "          callback();\n",
       "      });\n",
       "    } finally {\n",
       "      delete root._bokeh_onload_callbacks\n",
       "    }\n",
       "    console.debug(\"Bokeh: all callbacks have finished\");\n",
       "  }\n",
       "\n",
       "  function load_libs(css_urls, js_urls, callback) {\n",
       "    if (css_urls == null) css_urls = [];\n",
       "    if (js_urls == null) js_urls = [];\n",
       "\n",
       "    root._bokeh_onload_callbacks.push(callback);\n",
       "    if (root._bokeh_is_loading > 0) {\n",
       "      console.debug(\"Bokeh: BokehJS is being loaded, scheduling callback at\", now());\n",
       "      return null;\n",
       "    }\n",
       "    if (js_urls == null || js_urls.length === 0) {\n",
       "      run_callbacks();\n",
       "      return null;\n",
       "    }\n",
       "    console.debug(\"Bokeh: BokehJS not loaded, scheduling load and callback at\", now());\n",
       "    root._bokeh_is_loading = css_urls.length + js_urls.length;\n",
       "\n",
       "    function on_load() {\n",
       "      root._bokeh_is_loading--;\n",
       "      if (root._bokeh_is_loading === 0) {\n",
       "        console.debug(\"Bokeh: all BokehJS libraries/stylesheets loaded\");\n",
       "        run_callbacks()\n",
       "      }\n",
       "    }\n",
       "\n",
       "    function on_error(url) {\n",
       "      console.error(\"failed to load \" + url);\n",
       "    }\n",
       "\n",
       "    for (let i = 0; i < css_urls.length; i++) {\n",
       "      const url = css_urls[i];\n",
       "      const element = document.createElement(\"link\");\n",
       "      element.onload = on_load;\n",
       "      element.onerror = on_error.bind(null, url);\n",
       "      element.rel = \"stylesheet\";\n",
       "      element.type = \"text/css\";\n",
       "      element.href = url;\n",
       "      console.debug(\"Bokeh: injecting link tag for BokehJS stylesheet: \", url);\n",
       "      document.body.appendChild(element);\n",
       "    }\n",
       "\n",
       "    for (let i = 0; i < js_urls.length; i++) {\n",
       "      const url = js_urls[i];\n",
       "      const element = document.createElement('script');\n",
       "      element.onload = on_load;\n",
       "      element.onerror = on_error.bind(null, url);\n",
       "      element.async = false;\n",
       "      element.src = url;\n",
       "      console.debug(\"Bokeh: injecting script tag for BokehJS library: \", url);\n",
       "      document.head.appendChild(element);\n",
       "    }\n",
       "  };\n",
       "\n",
       "  function inject_raw_css(css) {\n",
       "    const element = document.createElement(\"style\");\n",
       "    element.appendChild(document.createTextNode(css));\n",
       "    document.body.appendChild(element);\n",
       "  }\n",
       "\n",
       "  \n",
       "  const js_urls = [\"https://cdn.bokeh.org/bokeh/release/bokeh-2.4.1.min.js\", \"https://cdn.bokeh.org/bokeh/release/bokeh-gl-2.4.1.min.js\", \"https://cdn.bokeh.org/bokeh/release/bokeh-widgets-2.4.1.min.js\", \"https://cdn.bokeh.org/bokeh/release/bokeh-tables-2.4.1.min.js\", \"https://cdn.bokeh.org/bokeh/release/bokeh-mathjax-2.4.1.min.js\"];\n",
       "  const css_urls = [];\n",
       "  \n",
       "\n",
       "  const inline_js = [\n",
       "    function(Bokeh) {\n",
       "      Bokeh.set_log_level(\"info\");\n",
       "    },\n",
       "    function(Bokeh) {\n",
       "    \n",
       "    \n",
       "    }\n",
       "  ];\n",
       "\n",
       "  function run_inline_js() {\n",
       "    \n",
       "    if (root.Bokeh !== undefined || force === true) {\n",
       "      \n",
       "    for (let i = 0; i < inline_js.length; i++) {\n",
       "      inline_js[i].call(root, root.Bokeh);\n",
       "    }\n",
       "    if (force === true) {\n",
       "        display_loaded();\n",
       "      }} else if (Date.now() < root._bokeh_timeout) {\n",
       "      setTimeout(run_inline_js, 100);\n",
       "    } else if (!root._bokeh_failed_load) {\n",
       "      console.log(\"Bokeh: BokehJS failed to load within specified timeout.\");\n",
       "      root._bokeh_failed_load = true;\n",
       "    } else if (force !== true) {\n",
       "      const cell = $(document.getElementById(\"1002\")).parents('.cell').data().cell;\n",
       "      cell.output_area.append_execute_result(NB_LOAD_WARNING)\n",
       "    }\n",
       "\n",
       "  }\n",
       "\n",
       "  if (root._bokeh_is_loading === 0) {\n",
       "    console.debug(\"Bokeh: BokehJS loaded, going straight to plotting\");\n",
       "    run_inline_js();\n",
       "  } else {\n",
       "    load_libs(css_urls, js_urls, function() {\n",
       "      console.debug(\"Bokeh: BokehJS plotting callback run at\", now());\n",
       "      run_inline_js();\n",
       "    });\n",
       "  }\n",
       "}(window));"
      ],
      "application/vnd.bokehjs_load.v0+json": "\n(function(root) {\n  function now() {\n    return new Date();\n  }\n\n  const force = true;\n\n  if (typeof root._bokeh_onload_callbacks === \"undefined\" || force === true) {\n    root._bokeh_onload_callbacks = [];\n    root._bokeh_is_loading = undefined;\n  }\n\n  \n\n  \n  if (typeof (root._bokeh_timeout) === \"undefined\" || force === true) {\n    root._bokeh_timeout = Date.now() + 5000;\n    root._bokeh_failed_load = false;\n  }\n\n  const NB_LOAD_WARNING = {'data': {'text/html':\n     \"<div style='background-color: #fdd'>\\n\"+\n     \"<p>\\n\"+\n     \"BokehJS does not appear to have successfully loaded. If loading BokehJS from CDN, this \\n\"+\n     \"may be due to a slow or bad network connection. Possible fixes:\\n\"+\n     \"</p>\\n\"+\n     \"<ul>\\n\"+\n     \"<li>re-rerun `output_notebook()` to attempt to load from CDN again, or</li>\\n\"+\n     \"<li>use INLINE resources instead, as so:</li>\\n\"+\n     \"</ul>\\n\"+\n     \"<code>\\n\"+\n     \"from bokeh.resources import INLINE\\n\"+\n     \"output_notebook(resources=INLINE)\\n\"+\n     \"</code>\\n\"+\n     \"</div>\"}};\n\n  function display_loaded() {\n    const el = document.getElementById(\"1002\");\n    if (el != null) {\n      el.textContent = \"BokehJS is loading...\";\n    }\n    if (root.Bokeh !== undefined) {\n      if (el != null) {\n        el.textContent = \"BokehJS \" + root.Bokeh.version + \" successfully loaded.\";\n      }\n    } else if (Date.now() < root._bokeh_timeout) {\n      setTimeout(display_loaded, 100)\n    }\n  }\n\n\n  function run_callbacks() {\n    try {\n      root._bokeh_onload_callbacks.forEach(function(callback) {\n        if (callback != null)\n          callback();\n      });\n    } finally {\n      delete root._bokeh_onload_callbacks\n    }\n    console.debug(\"Bokeh: all callbacks have finished\");\n  }\n\n  function load_libs(css_urls, js_urls, callback) {\n    if (css_urls == null) css_urls = [];\n    if (js_urls == null) js_urls = [];\n\n    root._bokeh_onload_callbacks.push(callback);\n    if (root._bokeh_is_loading > 0) {\n      console.debug(\"Bokeh: BokehJS is being loaded, scheduling callback at\", now());\n      return null;\n    }\n    if (js_urls == null || js_urls.length === 0) {\n      run_callbacks();\n      return null;\n    }\n    console.debug(\"Bokeh: BokehJS not loaded, scheduling load and callback at\", now());\n    root._bokeh_is_loading = css_urls.length + js_urls.length;\n\n    function on_load() {\n      root._bokeh_is_loading--;\n      if (root._bokeh_is_loading === 0) {\n        console.debug(\"Bokeh: all BokehJS libraries/stylesheets loaded\");\n        run_callbacks()\n      }\n    }\n\n    function on_error(url) {\n      console.error(\"failed to load \" + url);\n    }\n\n    for (let i = 0; i < css_urls.length; i++) {\n      const url = css_urls[i];\n      const element = document.createElement(\"link\");\n      element.onload = on_load;\n      element.onerror = on_error.bind(null, url);\n      element.rel = \"stylesheet\";\n      element.type = \"text/css\";\n      element.href = url;\n      console.debug(\"Bokeh: injecting link tag for BokehJS stylesheet: \", url);\n      document.body.appendChild(element);\n    }\n\n    for (let i = 0; i < js_urls.length; i++) {\n      const url = js_urls[i];\n      const element = document.createElement('script');\n      element.onload = on_load;\n      element.onerror = on_error.bind(null, url);\n      element.async = false;\n      element.src = url;\n      console.debug(\"Bokeh: injecting script tag for BokehJS library: \", url);\n      document.head.appendChild(element);\n    }\n  };\n\n  function inject_raw_css(css) {\n    const element = document.createElement(\"style\");\n    element.appendChild(document.createTextNode(css));\n    document.body.appendChild(element);\n  }\n\n  \n  const js_urls = [\"https://cdn.bokeh.org/bokeh/release/bokeh-2.4.1.min.js\", \"https://cdn.bokeh.org/bokeh/release/bokeh-gl-2.4.1.min.js\", \"https://cdn.bokeh.org/bokeh/release/bokeh-widgets-2.4.1.min.js\", \"https://cdn.bokeh.org/bokeh/release/bokeh-tables-2.4.1.min.js\", \"https://cdn.bokeh.org/bokeh/release/bokeh-mathjax-2.4.1.min.js\"];\n  const css_urls = [];\n  \n\n  const inline_js = [\n    function(Bokeh) {\n      Bokeh.set_log_level(\"info\");\n    },\n    function(Bokeh) {\n    \n    \n    }\n  ];\n\n  function run_inline_js() {\n    \n    if (root.Bokeh !== undefined || force === true) {\n      \n    for (let i = 0; i < inline_js.length; i++) {\n      inline_js[i].call(root, root.Bokeh);\n    }\n    if (force === true) {\n        display_loaded();\n      }} else if (Date.now() < root._bokeh_timeout) {\n      setTimeout(run_inline_js, 100);\n    } else if (!root._bokeh_failed_load) {\n      console.log(\"Bokeh: BokehJS failed to load within specified timeout.\");\n      root._bokeh_failed_load = true;\n    } else if (force !== true) {\n      const cell = $(document.getElementById(\"1002\")).parents('.cell').data().cell;\n      cell.output_area.append_execute_result(NB_LOAD_WARNING)\n    }\n\n  }\n\n  if (root._bokeh_is_loading === 0) {\n    console.debug(\"Bokeh: BokehJS loaded, going straight to plotting\");\n    run_inline_js();\n  } else {\n    load_libs(css_urls, js_urls, function() {\n      console.debug(\"Bokeh: BokehJS plotting callback run at\", now());\n      run_inline_js();\n    });\n  }\n}(window));"
     },
     "metadata": {},
     "output_type": "display_data"
    }
   ],
   "source": [
    "# enable inline plotting\n",
    "%matplotlib inline\n",
    "# uncomment this line to open a console with the same kernel\n",
    "%qtconsole\n",
    "\n",
    "import time\n",
    "\n",
    "import numpy as np\n",
    "import pandas as pd\n",
    "\n",
    "import scipy.linalg as linalg\n",
    "import scipy.spatial as spatial\n",
    "import scipy.stats as stats\n",
    "\n",
    "#  RMSE\n",
    "from sklearn.metrics import mean_squared_error\n",
    "\n",
    "# heatmap\n",
    "import seaborn as sns\n",
    "\n",
    "import matplotlib.pyplot as plt\n",
    "\n",
    "from ipywidgets import interact\n",
    "\n",
    "from bokeh.io import push_notebook, show, output_notebook\n",
    "from bokeh.plotting import figure\n",
    "output_notebook()\n",
    "\n",
    "from kkr import *"
   ]
  },
  {
   "cell_type": "markdown",
   "metadata": {},
   "source": [
    "## Estimation of a Gaussian distribution\n",
    "\n",
    "In this notebook, we want to show a comparison of the (subspace) kernel Kalman rule ((sub)KKR) and the (subspace) kernel Bayes' rule ((sub)KBR) to an analytical baseline.\n",
    "The idea of this comparison is the following: we get samples from a Gaussian distribution, but don't know the mean.\n",
    "In the first part we assume the variance still to be known, later we want to infer the variance as well.\n",
    "\n",
    "Using a set of training samples, we can embed a prior distribution and learn the operators for (sub)KBR and (sub)KKR.\n",
    "We can use these then to iteratively infer the mean (and later the variance) of an unknow Gaussian distribution by only observing samples from it.\n",
    "To compare both inference methods to a baseline, we can also do this analytically by assuming a conjugate prior and white Gaussian noise.\n",
    "\n",
    "\n",
    "### Drawing samples\n",
    "\n",
    "The underlying process is the following:\n",
    "* First, a latent context $c$ is sampled randomly from a uniform distribution in the range $[-5, 5]$.\n",
    "* Then, around that context, we draw a Gaussian sample with $\\mu = c$ and $\\sigma = 0.3$. This is the observation.\n",
    "\n",
    "As training data, we sample $n$ latent contexts $c_i$ and for each context a single sample from the Gaussian distribution $\\mathcal N(c_i,\\sigma)$ at that location."
   ]
  },
  {
   "cell_type": "code",
   "execution_count": 3,
   "metadata": {},
   "outputs": [
    {
     "data": {
      "image/png": "[encoded data removed]",
      "text/plain": [
       "<Figure size 432x288 with 1 Axes>"
      ]
     },
     "metadata": {
      "needs_background": "light"
     },
     "output_type": "display_data"
    }
   ],
   "source": [
    "num_samples = 500\n",
    "\n",
    "data = pd.DataFrame(\n",
    "    np.zeros((num_samples,2)),\n",
    "    columns=['context','samples']\n",
    ")\n",
    "\n",
    "data['context'] = np.random.uniform(low=-5, high=5, size=(num_samples,1))\n",
    "\n",
    "noise_mean = 0\n",
    "noise_std = 1/3\n",
    "data['samples'] = np.random.normal(loc=data['context'] + noise_mean, scale=noise_std)\n",
    "\n",
    "# kernel density estimation on the samples\n",
    "ax = data['samples'].plot.kde()"
   ]
  },
  {
   "cell_type": "markdown",
   "metadata": {},
   "source": [
    "To compare the methods, we sample a single test context $c^\\ast$ from the same uniform distribution and then draw samples $y_i$ from the Gaussian $\\mathcal N(c^\\ast,\\sigma)$ as observations.\n",
    "From these observations we then want to infer the latent context $c^\\ast$ using Bayes' rule."
   ]
  },
  {
   "cell_type": "markdown",
   "metadata": {},
   "source": [
    "### Constant variance"
   ]
  },
  {
   "cell_type": "code",
   "execution_count": 4,
   "metadata": {},
   "outputs": [
    {
     "name": "stdout",
     "output_type": "stream",
     "text": [
      "test_context: [-0.65266679]\n"
     ]
    }
   ],
   "source": [
    "test_context = np.random.uniform(low=-5, high=5, size=1)\n",
    "\n",
    "# draw samples\n",
    "numTestSamples = 50\n",
    "plotSteps = 1\n",
    "\n",
    "print(\"test_context:\", test_context)\n",
    "test_data = np.append(stats.norm(loc=test_context + noise_mean, scale=1/5).rvs(size=(10)), stats.norm(loc=test_context + noise_mean, scale=1/4).rvs(size=(10)))\n",
    "test_data = np.append(test_data, stats.norm(loc=test_context + noise_mean, scale=1/3).rvs(size=(10)))\n",
    "test_data = np.append(test_data, stats.norm(loc=test_context + noise_mean, scale=1/2).rvs(size=(10)))\n",
    "test_data = np.append(test_data, stats.norm(loc=test_context + noise_mean, scale=1).rvs(size=(10)))\n",
    "\n",
    "testData = pd.DataFrame(\n",
    "#     np.random.normal(loc=test_context + noise_mean,\n",
    "#                      scale=noise_std,\n",
    "#                      size=(numTestSamples)),\n",
    "    test_data,\n",
    "    columns=['samples']\n",
    ")\n",
    "\n",
    "# print(testData['samples'])"
   ]
  },
  {
   "cell_type": "markdown",
   "metadata": {},
   "source": [
    "### not constant variance"
   ]
  },
  {
   "cell_type": "code",
   "execution_count": 56,
   "metadata": {},
   "outputs": [],
   "source": [
    "test_context = np.random.uniform(low=-5, high=5, size=1)\n",
    "\n",
    "groundTruthN = stats.norm(loc=test_context + noise_mean, scale=noise_std)\n",
    "\n",
    "\n",
    "# draw samples\n",
    "numTestSamples = 50\n",
    "plotSteps = 1\n",
    "\n",
    "testData = pd.DataFrame(\n",
    "#     np.random.normal(loc=test_context + noise_mean,\n",
    "#                      scale=noise_std,\n",
    "#                      size=(numTestSamples)),\n",
    "    groundTruthN.rvs(size=numTestSamples),\n",
    "    columns=['samples']\n",
    ")\n",
    "\n",
    "# # Ground Truth\n",
    "# print(test_context + noise_mean)\n",
    "# testData['samples'][10] = test_context + noise_std * 4\n",
    "# testData['samples'][40] = test_context - noise_std * 4\n",
    "\n",
    "# # テストデータに外れ値を入れる\n",
    "# print(testData['samples'])"
   ]
  },
  {
   "cell_type": "markdown",
   "metadata": {},
   "source": [
    "### Kernel Kalman Rule\n",
    "\n",
    "For the kernel Kalman rule, we start again with choosing some hyper-parameters:"
   ]
  },
  {
   "cell_type": "code",
   "execution_count": 57,
   "metadata": {},
   "outputs": [],
   "source": [
    "kernel_size = 100         # number of data points in the kernel matrices\n",
    "alphaO = np.exp(-10)      # regularization parameter for the inverses\n",
    "alphaQ = np.exp(-10)"
   ]
  },
  {
   "cell_type": "markdown",
   "metadata": {},
   "source": [
    "Select the bandwidth according to the median trick"
   ]
  },
  {
   "cell_type": "code",
   "execution_count": 58,
   "metadata": {},
   "outputs": [],
   "source": [
    "bandwidths = {'context': 0, 'samples': 0}\n",
    "\n",
    "for k in ['context', 'samples']:\n",
    "    distances = spatial.distance.pdist(data[[k]], metric='sqeuclidean')\n",
    "    bandwidths[k] = np.sqrt(np.median(distances))\n",
    "\n",
    "bandwidth_factor_k = np.exp(.0)    # bandwidth factor of the kernel function k\n",
    "bandwidth_factor_g = np.exp(.0)    # bandwidth factor of the kernel function g\n",
    "\n",
    "bandwidth_k = bandwidth_factor_k * bandwidths['context']\n",
    "bandwidth_g = bandwidth_factor_g * bandwidths['samples']"
   ]
  },
  {
   "cell_type": "markdown",
   "metadata": {},
   "source": [
    "Select a random subset of the training data for learning the kernel Kalman rule"
   ]
  },
  {
   "cell_type": "code",
   "execution_count": 59,
   "metadata": {},
   "outputs": [],
   "source": [
    "reference_set = data[['context', 'samples']].sample(n=kernel_size)#.sort_index()"
   ]
  },
  {
   "cell_type": "code",
   "execution_count": 60,
   "metadata": {},
   "outputs": [],
   "source": [
    "kernel_k = ExponentialQuadraticKernel()\n",
    "kernel_k.bandwidth = bandwidth_k\n",
    "kernel_k.normalized = True\n",
    "\n",
    "K = kernel_k(reference_set[['context']].values)\n",
    "\n",
    "kernel_g = ExponentialQuadraticKernel()\n",
    "kernel_g.bandwidth = bandwidth_g\n",
    "\n",
    "G = kernel_g(reference_set[['samples']].values)\n",
    "k_g = lambda y: kernel_g(reference_set[['samples']].values, y)"
   ]
  },
  {
   "cell_type": "markdown",
   "metadata": {},
   "source": [
    "Compute the conditional operator from the context Hilbert space to the observation Hilbert space"
   ]
  },
  {
   "cell_type": "code",
   "execution_count": 61,
   "metadata": {},
   "outputs": [],
   "source": [
    "O = linalg.solve(K + alphaO * np.eye(kernel_size), K, assume_a='pos')\n",
    "X = reference_set[['samples']].values\n",
    "\n",
    "_r = O - np.eye(kernel_size)\n",
    "R = (_r.dot(_r.T)) / kernel_size"
   ]
  },
  {
   "cell_type": "markdown",
   "metadata": {},
   "source": [
    "From the training data we can now embed the prior distribution"
   ]
  },
  {
   "cell_type": "code",
   "execution_count": 62,
   "metadata": {},
   "outputs": [],
   "source": [
    "K_all = kernel_k(reference_set[['context']].values,\n",
    "                               data[['context']].values)\n",
    "C_0 = linalg.solve(K + alphaO * np.eye(kernel_size), K_all, assume_a='pos')\n",
    "\n",
    "m_0 = np.mean(C_0, axis=1, keepdims=True)\n",
    "S_0 = np.cov(C_0)\n",
    "\n",
    "# normalization\n",
    "S_0 = 0.5 * (S_0 + S_0.T)\n",
    "[eig_v, eig_r] = linalg.eigh(S_0)\n",
    "eig_v[eig_v < 1e-16*eig_v.max()] = 1e-16*eig_v.max()\n",
    "S_0 = eig_r.dot(np.diag(eig_v)).dot(eig_r.T)"
   ]
  },
  {
   "cell_type": "markdown",
   "metadata": {},
   "source": [
    "tuning kernel's bandwidth"
   ]
  },
  {
   "cell_type": "markdown",
   "metadata": {},
   "source": [
    "With this we can now iteratively apply the kernel Kalman rule to get the posterior estimates of the mean for each time step"
   ]
  },
  {
   "cell_type": "code",
   "execution_count": 63,
   "metadata": {},
   "outputs": [
    {
     "name": "stdout",
     "output_type": "stream",
     "text": [
      "-0.2616109695161297\n"
     ]
    }
   ],
   "source": [
    "# initialize belief states\n",
    "m = m_0.copy()\n",
    "S = S_0.copy()\n",
    "\n",
    "for i in range(numTestSamples):\n",
    "    # embed observation\n",
    "    y = testData.loc[i, 'samples'].reshape((-1,1))\n",
    "    g_y = k_g(y)\n",
    "    \n",
    "    # compute kernel Kalman gain\n",
    "    Q_nominator_T = O.dot(S.T)\n",
    "    Q_denominator_T = (O.dot(S).dot(O.T) + R).dot(G) + alphaQ * np.eye(kernel_size)\n",
    "#     Q_denominator_T = O.dot(S).dot(O.T).dot(G) + alphaQ * np.eye(kernel_size)\n",
    "    Q = linalg.solve(Q_denominator_T, Q_nominator_T, overwrite_a=True, overwrite_b=True).T\n",
    "    # perform Kalman update\n",
    "    m = m + Q.dot(g_y - G.dot(O).dot(m))\n",
    "    S = S - Q.dot(G).dot(O).dot(S)\n",
    "    \n",
    "    # normalization\n",
    "    S = 0.5 * (S + S.T)\n",
    "    [eig_v, eig_r] = linalg.eigh(S)\n",
    "    eig_v[eig_v < 1e-16*eig_v.max()] = 1e-16*eig_v.max()\n",
    "    S = eig_r.dot(np.diag(eig_v)).dot(eig_r.T)\n",
    "\n",
    "    m = m / m.sum(axis=0)\n",
    "    \n",
    "    # project into state space\n",
    "    testData.loc[i,'kkrMu'] = X.T.dot(O.dot(m))[0][0]\n",
    "    testData.loc[i,'kkrVar'] = X.T.dot(O.dot(S).dot(O.T)).dot(X)[0][0]\n",
    "#     testData.loc[i,'kkrMAP'] =\n",
    "\n",
    "print(testData.loc[numTestSamples-1,'kkrMu'])"
   ]
  },
  {
   "cell_type": "markdown",
   "metadata": {},
   "source": [
    "### My kernel Kalman rule"
   ]
  },
  {
   "cell_type": "code",
   "execution_count": 70,
   "metadata": {},
   "outputs": [
    {
     "name": "stdout",
     "output_type": "stream",
     "text": [
      "[[-1.66776919e-01  4.45518237e-01 -1.72215185e-01 -3.53382049e-01\n",
      "  -5.59455931e-02 -2.82203549e-01 -1.36987825e+00 -2.22874791e-01\n",
      "  -9.52303769e-02 -4.08665791e-01  2.12998871e-01 -2.64595166e-01\n",
      "  -3.85507470e-01  3.82163593e-02 -8.61210835e-02 -8.99842352e-01\n",
      "  -2.53191094e-02 -3.50012592e-01 -5.60332225e-01 -5.51425696e-02\n",
      "  -4.25577168e-01 -4.38316856e-01 -1.57575145e+00 -4.64417997e-01\n",
      "  -5.14446053e-01 -5.44578687e-01  3.49346239e-01 -2.30698663e-01\n",
      "  -1.06726387e-01  3.31688737e-03 -4.94620668e-01 -1.75479922e-01\n",
      "   2.09751308e-01 -1.14448487e+00 -1.23440972e-01  2.83453987e-02\n",
      "  -4.93572941e-01 -6.35685632e-01 -1.20821072e-01 -1.43038373e-01\n",
      "  -6.92869824e-04 -1.45974910e-01 -1.60166438e-01 -2.63270481e-01\n",
      "  -1.61014307e-01  3.66704067e-01 -6.46117978e-02 -6.74653647e-02\n",
      "   3.07313138e-01 -2.79625775e-01]]\n"
     ]
    },
    {
     "name": "stderr",
     "output_type": "stream",
     "text": [
      "/var/folders/_t/dst09vgd02lglfhx4vhbf151b9q781/T/ipykernel_47465/3752700435.py:5: LinAlgWarning: Ill-conditioned matrix (rcond=5.48127e-17): result may not be accurate.\n",
      "  m = linalg.solve(A.dot(G).dot(A).dot(K), A.dot(kernel_g(reference_set[['samples']].values, testData[['samples']].values)), overwrite_a=True, overwrite_b=True)\n"
     ]
    }
   ],
   "source": [
    "# regularization parameter\n",
    "alpha_a = np.exp(-10)\n",
    "\n",
    "A = linalg.inv(K + alpha_a * np.eye(kernel_size))\n",
    "m = linalg.solve(A.dot(G).dot(A).dot(K), A.dot(kernel_g(reference_set[['samples']].values, testData[['samples']].values)), overwrite_a=True, overwrite_b=True)\n",
    "\n",
    "#normalization\n",
    "m = m / m.sum(axis=0)\n",
    "\n",
    "mykkrMu = X.T.dot(A.dot(K).dot(m))\n",
    "print(mykkrMu)"
   ]
  },
  {
   "cell_type": "markdown",
   "metadata": {},
   "source": [
    "#### Plotting the Posterior Distributions"
   ]
  },
  {
   "cell_type": "code",
   "execution_count": 65,
   "metadata": {},
   "outputs": [
    {
     "data": {
      "text/html": [
       "\n",
       "\n",
       "\n",
       "\n",
       "\n",
       "\n",
       "  <div class=\"bk-root\" id=\"eed01698-66c4-4504-a867-c47523191575\" data-root-id=\"2202\"></div>\n"
      ]
     },
     "metadata": {},
     "output_type": "display_data"
    },
    {
     "data": {
      "application/javascript": [
       "(function(root) {\n",
       "  function embed_document(root) {\n",
       "    \n",
       "  const docs_json = {\"934122c0-d1a6-429a-b6b3-1c9667f0b467\":{\"defs\":[],\"roots\":{\"references\":[{\"attributes\":{\"below\":[{\"id\":\"2213\"}],\"center\":[{\"id\":\"2216\"},{\"id\":\"2220\"},{\"id\":\"2251\"}],\"height\":400,\"left\":[{\"id\":\"2217\"}],\"renderers\":[{\"id\":\"2239\"},{\"id\":\"2257\"},{\"id\":\"2276\"},{\"id\":\"2297\"},{\"id\":\"2320\"}],\"title\":{\"id\":\"2203\"},\"toolbar\":{\"id\":\"2228\"},\"width\":800,\"x_range\":{\"id\":\"2205\"},\"x_scale\":{\"id\":\"2209\"},\"y_range\":{\"id\":\"2207\"},\"y_scale\":{\"id\":\"2211\"}},\"id\":\"2202\",\"subtype\":\"Figure\",\"type\":\"Plot\"},{\"attributes\":{},\"id\":\"2225\",\"type\":\"ResetTool\"},{\"attributes\":{\"line_alpha\":0.2,\"line_color\":\"red\",\"line_width\":2,\"x\":{\"field\":\"x\"},\"y\":{\"field\":\"y\"}},\"id\":\"2256\",\"type\":\"Line\"},{\"attributes\":{\"tools\":[{\"id\":\"2221\"},{\"id\":\"2222\"},{\"id\":\"2223\"},{\"id\":\"2224\"},{\"id\":\"2225\"},{\"id\":\"2226\"}]},\"id\":\"2228\",\"type\":\"Toolbar\"},{\"attributes\":{},\"id\":\"2413\",\"type\":\"UnionRenderers\"},{\"attributes\":{\"fill_alpha\":{\"value\":0.2},\"fill_color\":{\"value\":\"orange\"},\"hatch_alpha\":{\"value\":0.2},\"hatch_color\":{\"value\":\"orange\"},\"line_alpha\":{\"value\":0.2},\"line_color\":{\"value\":\"orange\"},\"size\":{\"value\":5},\"x\":{\"field\":\"x\"},\"y\":{\"value\":0.2}},\"id\":\"2319\",\"type\":\"Scatter\"},{\"attributes\":{},\"id\":\"2269\",\"type\":\"Selection\"},{\"attributes\":{\"line_color\":\"red\",\"line_width\":2,\"x\":{\"field\":\"x\"},\"y\":{\"field\":\"y\"}},\"id\":\"2254\",\"type\":\"Line\"},{\"attributes\":{\"source\":{\"id\":\"2253\"}},\"id\":\"2258\",\"type\":\"CDSView\"},{\"attributes\":{\"source\":{\"id\":\"2235\"}},\"id\":\"2240\",\"type\":\"CDSView\"},{\"attributes\":{},\"id\":\"2313\",\"type\":\"Selection\"},{\"attributes\":{\"coordinates\":null,\"data_source\":{\"id\":\"2235\"},\"glyph\":{\"id\":\"2236\"},\"group\":null,\"hover_glyph\":null,\"muted_glyph\":{\"id\":\"2238\"},\"nonselection_glyph\":{\"id\":\"2237\"},\"view\":{\"id\":\"2240\"}},\"id\":\"2239\",\"type\":\"GlyphRenderer\"},{\"attributes\":{\"coordinates\":null,\"data_source\":{\"id\":\"2253\"},\"glyph\":{\"id\":\"2254\"},\"group\":null,\"hover_glyph\":null,\"muted_glyph\":{\"id\":\"2256\"},\"nonselection_glyph\":{\"id\":\"2255\"},\"view\":{\"id\":\"2258\"}},\"id\":\"2257\",\"type\":\"GlyphRenderer\"},{\"attributes\":{\"data\":{\"x\":[-0.2616109695161297,-0.2616109695161297],\"y\":[0,10]},\"selected\":{\"id\":\"2290\"},\"selection_policy\":{\"id\":\"2289\"}},\"id\":\"2272\",\"type\":\"ColumnDataSource\"},{\"attributes\":{\"source\":{\"id\":\"2293\"}},\"id\":\"2298\",\"type\":\"CDSView\"},{\"attributes\":{},\"id\":\"2312\",\"type\":\"UnionRenderers\"},{\"attributes\":{\"coordinates\":null,\"group\":null,\"items\":[{\"id\":\"2252\"},{\"id\":\"2271\"},{\"id\":\"2292\"},{\"id\":\"2315\"}]},\"id\":\"2251\",\"type\":\"Legend\"},{\"attributes\":{},\"id\":\"2414\",\"type\":\"Selection\"},{\"attributes\":{\"source\":{\"id\":\"2272\"}},\"id\":\"2277\",\"type\":\"CDSView\"},{\"attributes\":{\"line_color\":\"pink\",\"line_width\":2,\"x\":{\"field\":\"x\"},\"y\":{\"field\":\"y\"}},\"id\":\"2294\",\"type\":\"Line\"},{\"attributes\":{},\"id\":\"2268\",\"type\":\"UnionRenderers\"},{\"attributes\":{\"end\":0.7969404733029546,\"start\":-1.2632143974755874},\"id\":\"2205\",\"type\":\"Range1d\"},{\"attributes\":{\"line_alpha\":0.1,\"line_color\":\"red\",\"line_width\":2,\"x\":{\"field\":\"x\"},\"y\":{\"field\":\"y\"}},\"id\":\"2255\",\"type\":\"Line\"},{\"attributes\":{},\"id\":\"2247\",\"type\":\"AllLabels\"},{\"attributes\":{\"coordinates\":null,\"data_source\":{\"id\":\"2293\"},\"glyph\":{\"id\":\"2294\"},\"group\":null,\"hover_glyph\":null,\"muted_glyph\":{\"id\":\"2296\"},\"nonselection_glyph\":{\"id\":\"2295\"},\"view\":{\"id\":\"2298\"}},\"id\":\"2297\",\"type\":\"GlyphRenderer\"},{\"attributes\":{\"angle\":{\"value\":1.5707963267948966},\"length\":{\"value\":1},\"line_alpha\":{\"value\":0.1},\"line_width\":{\"value\":2},\"x\":{\"field\":\"x\"},\"y\":{\"value\":0}},\"id\":\"2237\",\"type\":\"Ray\"},{\"attributes\":{\"data\":{\"x\":{\"__ndarray__\":\"tV6Nbphw078=\",\"dtype\":\"float64\",\"order\":\"little\",\"shape\":[1]}},\"selected\":{\"id\":\"2414\"},\"selection_policy\":{\"id\":\"2413\"}},\"id\":\"2316\",\"type\":\"ColumnDataSource\"},{\"attributes\":{\"label\":{\"value\":\"KKR (RBF kernel)\"},\"renderers\":[{\"id\":\"2257\"}]},\"id\":\"2271\",\"type\":\"LegendItem\"},{\"attributes\":{\"coordinates\":null,\"data_source\":{\"id\":\"2272\"},\"glyph\":{\"id\":\"2273\"},\"group\":null,\"hover_glyph\":null,\"muted_glyph\":{\"id\":\"2275\"},\"nonselection_glyph\":{\"id\":\"2274\"},\"view\":{\"id\":\"2277\"}},\"id\":\"2276\",\"type\":\"GlyphRenderer\"},{\"attributes\":{\"angle\":{\"value\":1.5707963267948966},\"length\":{\"value\":1},\"line_width\":{\"value\":2},\"x\":{\"field\":\"x\"},\"y\":{\"value\":0}},\"id\":\"2236\",\"type\":\"Ray\"},{\"attributes\":{\"angle\":{\"value\":1.5707963267948966},\"length\":{\"value\":1},\"line_alpha\":{\"value\":0.2},\"line_width\":{\"value\":2},\"x\":{\"field\":\"x\"},\"y\":{\"value\":0}},\"id\":\"2238\",\"type\":\"Ray\"},{\"attributes\":{\"data\":{\"x\":{\"__ndarray__\":\"gCPTlW7Xzb8=\",\"dtype\":\"float64\",\"order\":\"little\",\"shape\":[1]}},\"selected\":{\"id\":\"2249\"},\"selection_policy\":{\"id\":\"2248\"}},\"id\":\"2235\",\"type\":\"ColumnDataSource\"},{\"attributes\":{\"data\":{\"x\":[-0.2796257746376752,-0.2796257746376752],\"y\":[0,10]},\"selected\":{\"id\":\"2313\"},\"selection_policy\":{\"id\":\"2312\"}},\"id\":\"2293\",\"type\":\"ColumnDataSource\"},{\"attributes\":{\"label\":{\"value\":\"myKKR (RBF kernel) expectation\"},\"renderers\":[{\"id\":\"2297\"}]},\"id\":\"2315\",\"type\":\"LegendItem\"},{\"attributes\":{\"data\":{\"x\":{\"__ndarray__\":\"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\",\"dtype\":\"float64\",\"order\":\"little\",\"shape\":[207]},\"y\":{\"__ndarray__\":\"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\",\"dtype\":\"float64\",\"order\":\"little\",\"shape\":[207]}},\"selected\":{\"id\":\"2269\"},\"selection_policy\":{\"id\":\"2268\"}},\"id\":\"2253\",\"type\":\"ColumnDataSource\"},{\"attributes\":{\"line_alpha\":0.2,\"line_color\":\"pink\",\"line_width\":2,\"x\":{\"field\":\"x\"},\"y\":{\"field\":\"y\"}},\"id\":\"2296\",\"type\":\"Line\"},{\"attributes\":{\"end\":10},\"id\":\"2207\",\"type\":\"Range1d\"},{\"attributes\":{\"line_alpha\":0.1,\"line_color\":\"pink\",\"line_width\":2,\"x\":{\"field\":\"x\"},\"y\":{\"field\":\"y\"}},\"id\":\"2295\",\"type\":\"Line\"},{\"attributes\":{},\"id\":\"2246\",\"type\":\"BasicTickFormatter\"},{\"attributes\":{},\"id\":\"2214\",\"type\":\"BasicTicker\"},{\"attributes\":{\"label\":{\"value\":\"KKR (RBF kernel) expectation\"},\"renderers\":[{\"id\":\"2276\"}]},\"id\":\"2292\",\"type\":\"LegendItem\"},{\"attributes\":{\"coordinates\":null,\"group\":null,\"text\":\"estimation of mean\"},\"id\":\"2203\",\"type\":\"Title\"},{\"attributes\":{\"line_color\":\"red\",\"line_width\":2,\"x\":{\"field\":\"x\"},\"y\":{\"field\":\"y\"}},\"id\":\"2273\",\"type\":\"Line\"},{\"attributes\":{\"line_alpha\":0.2,\"line_color\":\"red\",\"line_width\":2,\"x\":{\"field\":\"x\"},\"y\":{\"field\":\"y\"}},\"id\":\"2275\",\"type\":\"Line\"},{\"attributes\":{},\"id\":\"2209\",\"type\":\"LinearScale\"},{\"attributes\":{\"line_alpha\":0.1,\"line_color\":\"red\",\"line_width\":2,\"x\":{\"field\":\"x\"},\"y\":{\"field\":\"y\"}},\"id\":\"2274\",\"type\":\"Line\"},{\"attributes\":{},\"id\":\"2243\",\"type\":\"BasicTickFormatter\"},{\"attributes\":{\"coordinates\":null,\"formatter\":{\"id\":\"2243\"},\"group\":null,\"major_label_policy\":{\"id\":\"2244\"},\"ticker\":{\"id\":\"2218\"}},\"id\":\"2217\",\"type\":\"LinearAxis\"},{\"attributes\":{\"fill_color\":{\"value\":\"orange\"},\"hatch_color\":{\"value\":\"orange\"},\"line_color\":{\"value\":\"orange\"},\"size\":{\"value\":5},\"x\":{\"field\":\"x\"},\"y\":{\"value\":0.2}},\"id\":\"2317\",\"type\":\"Scatter\"},{\"attributes\":{\"axis\":{\"id\":\"2213\"},\"coordinates\":null,\"group\":null,\"ticker\":null},\"id\":\"2216\",\"type\":\"Grid\"},{\"attributes\":{},\"id\":\"2211\",\"type\":\"LinearScale\"},{\"attributes\":{\"fill_alpha\":{\"value\":0.1},\"fill_color\":{\"value\":\"orange\"},\"hatch_alpha\":{\"value\":0.1},\"hatch_color\":{\"value\":\"orange\"},\"line_alpha\":{\"value\":0.1},\"line_color\":{\"value\":\"orange\"},\"size\":{\"value\":5},\"x\":{\"field\":\"x\"},\"y\":{\"value\":0.2}},\"id\":\"2318\",\"type\":\"Scatter\"},{\"attributes\":{\"label\":{\"value\":\"ground-truth\"},\"renderers\":[{\"id\":\"2239\"}]},\"id\":\"2252\",\"type\":\"LegendItem\"},{\"attributes\":{},\"id\":\"2226\",\"type\":\"HelpTool\"},{\"attributes\":{},\"id\":\"2289\",\"type\":\"UnionRenderers\"},{\"attributes\":{\"coordinates\":null,\"formatter\":{\"id\":\"2246\"},\"group\":null,\"major_label_policy\":{\"id\":\"2247\"},\"ticker\":{\"id\":\"2214\"}},\"id\":\"2213\",\"type\":\"LinearAxis\"},{\"attributes\":{},\"id\":\"2290\",\"type\":\"Selection\"},{\"attributes\":{\"source\":{\"id\":\"2316\"}},\"id\":\"2321\",\"type\":\"CDSView\"},{\"attributes\":{},\"id\":\"2244\",\"type\":\"AllLabels\"},{\"attributes\":{},\"id\":\"2249\",\"type\":\"Selection\"},{\"attributes\":{\"coordinates\":null,\"data_source\":{\"id\":\"2316\"},\"glyph\":{\"id\":\"2317\"},\"group\":null,\"hover_glyph\":null,\"muted_glyph\":{\"id\":\"2319\"},\"nonselection_glyph\":{\"id\":\"2318\"},\"view\":{\"id\":\"2321\"}},\"id\":\"2320\",\"type\":\"GlyphRenderer\"},{\"attributes\":{\"axis\":{\"id\":\"2217\"},\"coordinates\":null,\"dimension\":1,\"group\":null,\"ticker\":null},\"id\":\"2220\",\"type\":\"Grid\"},{\"attributes\":{},\"id\":\"2218\",\"type\":\"BasicTicker\"},{\"attributes\":{},\"id\":\"2248\",\"type\":\"UnionRenderers\"},{\"attributes\":{\"bottom_units\":\"screen\",\"coordinates\":null,\"fill_alpha\":0.5,\"fill_color\":\"lightgrey\",\"group\":null,\"left_units\":\"screen\",\"level\":\"overlay\",\"line_alpha\":1.0,\"line_color\":\"black\",\"line_dash\":[4,4],\"line_width\":2,\"right_units\":\"screen\",\"syncable\":false,\"top_units\":\"screen\"},\"id\":\"2227\",\"type\":\"BoxAnnotation\"},{\"attributes\":{},\"id\":\"2222\",\"type\":\"WheelZoomTool\"},{\"attributes\":{},\"id\":\"2221\",\"type\":\"PanTool\"},{\"attributes\":{\"overlay\":{\"id\":\"2227\"}},\"id\":\"2223\",\"type\":\"BoxZoomTool\"},{\"attributes\":{},\"id\":\"2224\",\"type\":\"SaveTool\"}],\"root_ids\":[\"2202\"]},\"title\":\"Bokeh Application\",\"version\":\"2.4.1\"}};\n",
       "  const render_items = [{\"docid\":\"934122c0-d1a6-429a-b6b3-1c9667f0b467\",\"notebook_comms_target\":\"2416\",\"root_ids\":[\"2202\"],\"roots\":{\"2202\":\"eed01698-66c4-4504-a867-c47523191575\"}}];\n",
       "  root.Bokeh.embed.embed_items_notebook(docs_json, render_items);\n",
       "\n",
       "  }\n",
       "  if (root.Bokeh !== undefined) {\n",
       "    embed_document(root);\n",
       "  } else {\n",
       "    let attempts = 0;\n",
       "    const timer = setInterval(function(root) {\n",
       "      if (root.Bokeh !== undefined) {\n",
       "        clearInterval(timer);\n",
       "        embed_document(root);\n",
       "      } else {\n",
       "        attempts++;\n",
       "        if (attempts > 100) {\n",
       "          clearInterval(timer);\n",
       "          console.log(\"Bokeh: ERROR: Unable to run BokehJS code because BokehJS library is missing\");\n",
       "        }\n",
       "      }\n",
       "    }, 10, root)\n",
       "  }\n",
       "})(window);"
      ],
      "application/vnd.bokehjs_exec.v0+json": ""
     },
     "metadata": {
      "application/vnd.bokehjs_exec.v0+json": {
       "id": "2202"
      }
     },
     "output_type": "display_data"
    }
   ],
   "source": [
    "# plotting\n",
    "plotXMin = groundTruthN.ppf(.001)[0]\n",
    "# plotXMin = -0.7\n",
    "plotXMax = groundTruthN.ppf(.999)[0]\n",
    "# plotXMax = 0.7\n",
    "\n",
    "x = np.arange(plotXMin,plotXMax,0.01)\n",
    "\n",
    "p = figure(title=\"estimation of mean\",\n",
    "           plot_height=400, plot_width=800, x_range=(plotXMin,plotXMax), y_range=(0,10))\n",
    "\n",
    "# add ground truth\n",
    "gt_ray = p.ray(test_context, 0,\n",
    "               length=1, angle=np.pi/2,\n",
    "               line_width=2, line_color=\"black\",\n",
    "               legend_label=\"ground-truth\")\n",
    "# post_line = p.line(x,\n",
    "#                    stats.norm.pdf(x,\n",
    "#                             loc=testData.loc[numTestSamples-1, 'postMu'],\n",
    "#                             scale=np.sqrt(1/testData.loc[0, 'postLambda'])),\n",
    "#                    line_width=2,  line_dash=\"dashed\", line_color=\"black\",\n",
    "#                    legend=\"posterior\")\n",
    "# map_line = p.line([testData.loc[numTestSamples-1, 'postMu']]*2, [0, 10],\n",
    "#                   line_width=2,  line_dash=\"dashed\", line_color=\"black\",\n",
    "#                   legend=\"maximum a-posteriori\")\n",
    "# ml_line = p.line([testData.loc[numTestSamples-1, 'mlMu']]*2, [0, 10],\n",
    "#                  line_width=2, line_color=\"#672E3B\",\n",
    "#                  legend=\"maximum likelihood\")\n",
    "kkr_fit_line = p.line(x,\n",
    "                      stats.norm.pdf(x,\n",
    "                                     loc=testData.loc[numTestSamples-1, 'kkrMu'],\n",
    "                                     scale=np.sqrt(testData.loc[numTestSamples-1, 'kkrVar'])),\n",
    "                      line_width=2, line_color=\"red\",\n",
    "                      legend_label=\"KKR (RBF kernel)\")\n",
    "kkr_exp_line = p.line([testData.loc[numTestSamples-1, 'kkrMu']]*2, [0, 10],\n",
    "                 line_width=2, line_color=\"red\",\n",
    "                 legend_label=\"KKR (RBF kernel) expectation\")\n",
    "mykkr_exp_line = p.line([mykkrMu[0][numTestSamples-1]]*2, [0, 10],\n",
    "                 line_width=2, line_color=\"pink\",\n",
    "                 legend_label=\"myKKR (RBF kernel) expectation\")\n",
    "# subkkr_exp_line = p.line([testData.loc[numTestSamples-1, 'subkkrMu']]*2, [0, 10],\n",
    "#                  line_width=2, line_color=\"pink\",\n",
    "#                  legend=\"subKKR (RBF kernel) expectation\")\n",
    "# kkrRQ_exp_line = p.line([testData.loc[numTestSamples-1, 'kkrRQMu']]*2, [0, 10],\n",
    "#                  line_width=2, line_color=\"orange\",\n",
    "#                  legend=\"KKR (RQ kernel)\")\n",
    "# kbra_exp_line = p.line([testData.loc[numTestSamples-1, 'kbraMu']]*2, [0, 10],\n",
    "#                  line_width=2, line_color=\"#4F84C4\", line_dash=\"solid\",\n",
    "#                  legend=\"KBR(a) expectation\")\n",
    "# kbrb_exp_line = p.line([testData.loc[numTestSamples-1, 'kbrbMu']]*2, [0, 10],\n",
    "#                  line_width=2, line_color=\"#4F84C4\", line_dash=\"dashed\",\n",
    "#                  legend=\"KBR(b) expectation\")\n",
    "# kbrc_exp_line = p.line([testData.loc[numTestSamples-1, 'kbrcMu']]*2, [0, 10],\n",
    "#                  line_width=2, line_color=\"#4F84C4\", line_dash=\"dotted\",\n",
    "#                  legend=\"KBR(c) expectation\")\n",
    "# subkbrc_exp_line = p.line([testData.loc[numTestSamples-1, 'subkbrMu']]*2, [0, 10],\n",
    "#                  line_width=2, line_color=\"#844FC4\", line_dash=\"solid\",\n",
    "#                  legend=\"subKBR expectation\")\n",
    "\n",
    "\n",
    "samples_scatter = p.scatter(testData.loc[numTestSamples-1:numTestSamples-1, 'samples'],0.2, color=\"orange\", size=5)\n",
    "\n",
    "h = show(p, notebook_handle=True)\n",
    "\n",
    "# @interact(n=(1,numTestSamples,plotSteps))\n",
    "# def update_posterior_plot(n=1):\n",
    "#     _d = testData.loc[n-1]\n",
    "#     post_line.data_source.data['y'] = stats.norm.pdf(x,\n",
    "#                                              loc=_d.loc['postMu'],\n",
    "#                                              scale=np.sqrt(1/_d.loc['postLambda']))\n",
    "#     map_line.data_source.data['x'] = 2*[_d.loc['postMu']]\n",
    "#     ml_line.data_source.data['x'] = 2*[_d.loc['mlMu']]\n",
    "    \n",
    "#     kkr_fit_line.data_source.data['y'] = stats.norm.pdf(x,\n",
    "#                                                 loc=_d.loc['kkrMu'],\n",
    "#                                                 scale=np.sqrt(_d.loc['kkrVar']))\n",
    "#     kkr_exp_line.data_source.data['x'] = 2*[_d.loc['kkrMu']]\n",
    "#     kbra_exp_line.data_source.data['x'] = 2*[_d.loc['kbraMu']]\n",
    "#     kbrb_exp_line.data_source.data['x'] = 2*[_d.loc['kbrbMu']]\n",
    "#     kbrc_exp_line.data_source.data['x'] = 2*[_d.loc['kbrcMu']]\n",
    "#     subkbrc_exp_line.data_source.data['x'] = 2*[_d.loc['subkbrMu']]\n",
    "    \n",
    "#     samples_scatter.data_source.data['x'] = testData.loc[0:n-1, 'samples'].values\n",
    "#     push_notebook(handle=h)"
   ]
  },
  {
   "cell_type": "markdown",
   "metadata": {},
   "source": [
    "Plotting the predictive distributions"
   ]
  },
  {
   "cell_type": "code",
   "execution_count": 79,
   "metadata": {},
   "outputs": [
    {
     "name": "stdout",
     "output_type": "stream",
     "text": [
      "[[0.25 0.25]\n",
      " [0.25 0.25]]\n"
     ]
    }
   ],
   "source": [
    "print(linalg.pinv(np.array([[1,1], [1,1]])))"
   ]
  },
  {
   "cell_type": "code",
   "execution_count": null,
   "metadata": {},
   "outputs": [],
   "source": []
  }
 ],
 "metadata": {
  "kernelspec": {
   "display_name": "Python 3 (ipykernel)",
   "language": "python",
   "name": "python3"
  },
  "language_info": {
   "codemirror_mode": {
    "name": "ipython",
    "version": 3
   },
   "file_extension": ".py",
   "mimetype": "text/x-python",
   "name": "python",
   "nbconvert_exporter": "python",
   "pygments_lexer": "ipython3",
   "version": "3.9.7"
  }
 },
 "nbformat": 4,
 "nbformat_minor": 1
}
